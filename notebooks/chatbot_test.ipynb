{
 "cells": [
  {
   "cell_type": "markdown",
   "metadata": {},
   "source": [
    "# Chatbot Test Notebook\n",
    "\n",
    "This notebook is designed to test and experiment with the functionality of the chatbot implemented in the `rag_swimrules` project. It showcases various scenarios and evaluates the performance of the chatbot."
   ]
  },
  {
   "cell_type": "code",
   "execution_count": null,
   "metadata": {
    "collapsed": false
   },
   "outputs": [],
   "source": [
    "import sys\n",
    "sys.path.append('../src')\n",
    "\n",
    "from chatbot import Chatbot\n",
    "\n",
    "# Initialize the chatbot\n",
    "chatbot = Chatbot()\n",
    "\n",
    "# Test cases\n",
    "test_cases = [\n",
    "    \"Hello! How are you?\",\n",
    "    \"What is the weather like today?\",\n",
    "    \"Tell me a joke.\",\n",
    "    \"What is the capital of France?\"\n",
    "]\n",
    "\n",
    "for test in test_cases:\n",
    "    response = chatbot.generate_response(test)\n",
    "    print(f'User: {test}\\nChatbot: {response}\\n')\n",
    "\n",
    "# Evaluate performance\n",
    "# Here you can add code to evaluate the performance of the chatbot, such as response time, accuracy, etc."
   ]
  }
 ],
 "metadata": {
  "kernelspec": {
   "display_name": "Python 3",
   "language": "python",
   "name": "python3"
  },
  "language_info": {
   "codemirror_mode": {
    "name": "ipython",
    "version": 3
   },
   "file_extension": ".py",
   "mimetype": "text/x-python",
   "name": "python",
   "nbconvert_exporter": "python",
   "pygments_lexer": "ipython3",
   "version": "3.8.5"
  }
 },
 "nbformat": 4,
 "nbformat_minor": 4
}