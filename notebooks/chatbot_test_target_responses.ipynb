{
 "cells": [
  {
   "cell_type": "markdown",
   "metadata": {},
   "source": [
    "# Chatbot Test Notebook\n",
    "\n",
    "This notebook is designed to test and experiment with the functionality of the chatbot implemented in the `rag_swimrules` project. It showcases various scenarios and evaluates the performance of the chatbot."
   ]
  },
  {
   "cell_type": "code",
   "execution_count": 1,
   "metadata": {},
   "outputs": [
    {
     "name": "stderr",
     "output_type": "stream",
     "text": [
      "Unable to revert mtime: /Library/Fonts\n",
      "Matplotlib is building the font cache; this may take a moment.\n"
     ]
    }
   ],
   "source": [
    "import textwrap\n",
    "import json\n",
    "import pandas as pd\n",
    "import time\n",
    "import matplotlib.pyplot as plt\n",
    "\n",
    "from langchain.prompts import PromptTemplate\n",
    "from langchain_core.prompts import ChatPromptTemplate\n",
    "from langchain_openai import ChatOpenAI\n",
    "\n",
    "from langchain_chroma.vectorstores import Chroma\n",
    "from langchain_chroma import Chroma\n",
    "from langchain_openai import OpenAIEmbeddings\n",
    "\n",
    "from openevals.prompts import CORRECTNESS_PROMPT\n",
    "from openevals.llm import create_llm_as_judge\n"
   ]
  },
  {
   "cell_type": "code",
   "execution_count": 2,
   "metadata": {},
   "outputs": [],
   "source": [
    "\n",
    "\n",
    "swimming_rules_template = \"\"\"You are an expert swimming rules assistant trained on FINA and competitive swimming regulations. \n",
    "Your answers must be precise, factual, and based only on the provided rules. Follow these guidelines:\n",
    "\n",
    "1. Answer ONLY using the verified rules provided below\n",
    "2. DO NOT use information from any other sources, including the internet or personal knowledge.\n",
    "3. if an action is not explicitly prohibited in the rules, assume it is allowed.\n",
    "4. if an action is not explicity mentioned, assume it is allowed.\n",
    "5. if an action is explicitly stated in the rule, assume it is allowed.\n",
    "6. A disqualification msut be based on a specific rule violation and cannot be implied.\n",
    "7. If the information isn't in the rules, say \"I don't have that rule in my current documentation\"\n",
    "8. Keep answers concise but complete\n",
    "9. Reference specific rule numbers when possible\n",
    "\n",
    "Relevant swimming rules:\n",
    "{context}\n",
    "\n",
    "Question: {question}\n",
    "\n",
    "Answer:\"\"\"\n",
    "\n",
    "SWIMMING_RULES_PROMPT = PromptTemplate(\n",
    "    template=swimming_rules_template,\n",
    "    input_variables=[\"context\", \"question\"]\n",
    ")\n"
   ]
  },
  {
   "cell_type": "code",
   "execution_count": 3,
   "metadata": {},
   "outputs": [
    {
     "data": {
      "text/plain": [
       "[{'sitiuation_id': 9,\n",
       "  'prompt': 'A breaststroke swimmer moves their hands in a sculling or flipper movement at the end of the first arm stroke, both after the start and after the turn. Should they be disqualified?',\n",
       "  'target': \"No, the swimmer should not be disqualified. This is legal provided, 'All movements of the arms shall be simultaneous without alternating movement.' A sculling motion of the hands, only as a part of the arm stroke, is not considered the beginning of a new stroke.\"},\n",
       " {'sitiuation_id': 10,\n",
       "  'prompt': 'In a 9-10 100 yard breaststroke event, a swimmer completes 50 yards and, thinking that the race is over, pushes back from the wall to read the scoreboard. At this point, realizing that the race is only halfway over, the swimmer returns to the wall, pushes off on the breast, and completes the required distance in good form. What call, if any, should be made?',\n",
       "  'target': 'The swimmer left the wall on the back and then returned to the wall before resuming the stroke. One violation that could be called would be that the swimmer was not on the breast when leaving the wall. Additional violations could include that the arm stroke was not simultaneous, depending on what was observed by the judge.'},\n",
       " {'sitiuation_id': 23,\n",
       "  'prompt': 'After a deep forward start in the breaststroke, a swimmer took one arm stroke completely back to their legs followed by a little butterfly kick and a breaststroke kick to get closer to the surface of the water. Their head broke the surface of the water before the hands turned inward at the widest part of the second stroke. The swimmer was disqualified. Was the disqualification correct?',\n",
       "  'target': \"No. The rule states, 'After the start and each turn, at any time prior to the first breaststroke kick, a single butterfly kick is permitted.'\"},\n",
       " {'sitiuation_id': 37,\n",
       "  'prompt': 'A swimmer in the 100 yard butterfly moves too close to the right lane line. During the recovery portion of an arm stroke, their right arm hits the lane line, causing the right arm to trail the left arm over and into the water (alternating action). However, the swimmer then pulls both arms back simultaneously during the propulsive portion of the arm stroke. The stroke judge signals a disqualification. Is this a valid DQ?',\n",
       "  'target': 'This is a correct call. The rule states, “Both arms must be brought forward simultaneously over the water and pulled back simultaneously under the water throughout the race.” In this case, the swimmer’s arms were not brought forward over the water simultaneously. The fact that the lane line prevented the swimmer from recovering both arms simultaneously is not germane to the judging of the stroke.'}]"
      ]
     },
     "execution_count": 3,
     "metadata": {},
     "output_type": "execute_result"
    }
   ],
   "source": [
    "# reaad situations from json file\n",
    "with open(\"../raw_data/swimming_situations.json\") as f:\n",
    "    swimming_situations = json.load(f)\n",
    "\n",
    "swimming_situations"
   ]
  },
  {
   "cell_type": "code",
   "execution_count": 4,
   "metadata": {},
   "outputs": [],
   "source": [
    "# Initialize embeddings model (ensure the same model used during creation)\n",
    "embeddings = OpenAIEmbeddings(model=\"text-embedding-3-small\")\n",
    "\n",
    "# retretieve the relevant rules from your database or knowledge base\n",
    "# Load the existing Chroma vector store\n",
    "persist_directory = \"../db/swim_rules_semantic\"\n",
    "vector_store = Chroma(persist_directory=persist_directory, embedding_function=embeddings)\n",
    "\n",
    "# Create a retriever from the vector store\n",
    "retriever = vector_store.as_retriever(search_kwargs={\"k\": 10})\n",
    "\n"
   ]
  },
  {
   "cell_type": "code",
   "execution_count": 5,
   "metadata": {
    "collapsed": false
   },
   "outputs": [],
   "source": [
    "# Initialize LLM\n",
    "llm = ChatOpenAI(\n",
    "    model=\"gpt-4o\",\n",
    "    temperature=0,\n",
    "    max_tokens=1000\n",
    ")\n"
   ]
  },
  {
   "cell_type": "code",
   "execution_count": 6,
   "metadata": {},
   "outputs": [
    {
     "name": "stdout",
     "output_type": "stream",
     "text": [
      "Situation: {'sitiuation_id': 9, 'prompt': 'A breaststroke swimmer moves their hands in a sculling or flipper movement at the end of the first arm stroke, both after the start and after the turn. Should they be disqualified?', 'target': \"No, the swimmer should not be disqualified. This is legal provided, 'All movements of the arms shall be simultaneous without alternating movement.' A sculling motion of the hands, only as a part of the arm stroke, is not considered the beginning of a new stroke.\"}\n",
      "Situation: {'sitiuation_id': 10, 'prompt': 'In a 9-10 100 yard breaststroke event, a swimmer completes 50 yards and, thinking that the race is over, pushes back from the wall to read the scoreboard. At this point, realizing that the race is only halfway over, the swimmer returns to the wall, pushes off on the breast, and completes the required distance in good form. What call, if any, should be made?', 'target': 'The swimmer left the wall on the back and then returned to the wall before resuming the stroke. One violation that could be called would be that the swimmer was not on the breast when leaving the wall. Additional violations could include that the arm stroke was not simultaneous, depending on what was observed by the judge.'}\n",
      "Situation: {'sitiuation_id': 23, 'prompt': 'After a deep forward start in the breaststroke, a swimmer took one arm stroke completely back to their legs followed by a little butterfly kick and a breaststroke kick to get closer to the surface of the water. Their head broke the surface of the water before the hands turned inward at the widest part of the second stroke. The swimmer was disqualified. Was the disqualification correct?', 'target': \"No. The rule states, 'After the start and each turn, at any time prior to the first breaststroke kick, a single butterfly kick is permitted.'\"}\n",
      "Situation: {'sitiuation_id': 37, 'prompt': 'A swimmer in the 100 yard butterfly moves too close to the right lane line. During the recovery portion of an arm stroke, their right arm hits the lane line, causing the right arm to trail the left arm over and into the water (alternating action). However, the swimmer then pulls both arms back simultaneously during the propulsive portion of the arm stroke. The stroke judge signals a disqualification. Is this a valid DQ?', 'target': 'This is a correct call. The rule states, “Both arms must be brought forward simultaneously over the water and pulled back simultaneously under the water throughout the race.” In this case, the swimmer’s arms were not brought forward over the water simultaneously. The fact that the lane line prevented the swimmer from recovering both arms simultaneously is not germane to the judging of the stroke.'}\n"
     ]
    }
   ],
   "source": [
    "for situation in swimming_situations:\n",
    "    print(f\"Situation: {situation}\")"
   ]
  },
  {
   "cell_type": "code",
   "execution_count": 7,
   "metadata": {},
   "outputs": [],
   "source": [
    "# setup evaluator\n",
    "response_evaluator = create_llm_as_judge(\n",
    "    prompt=CORRECTNESS_PROMPT,\n",
    "    model=\"openai:gpt-4o\",\n",
    "    feedback_key=\"correctness\"\n",
    ")"
   ]
  },
  {
   "cell_type": "code",
   "execution_count": 8,
   "metadata": {},
   "outputs": [
    {
     "name": "stdout",
     "output_type": "stream",
     "text": [
      "\n",
      " >>>SITUATION: 9 QUERY: A breaststroke swimmer moves their hands in a sculling\n",
      "or flipper movement at the end of the first arm stroke, both after the start and\n",
      "after the turn. Should they be disqualified?\n"
     ]
    },
    {
     "name": "stderr",
     "output_type": "stream",
     "text": [
      "/var/folders/8_/h2tjc94d2y5fwx8dhbcrnbfc0000gn/T/ipykernel_20471/2693908529.py:10: LangChainDeprecationWarning: The method `BaseRetriever.get_relevant_documents` was deprecated in langchain-core 0.1.46 and will be removed in 1.0. Use :meth:`~invoke` instead.\n",
      "  docs = retriever.get_relevant_documents(query)\n",
      "/var/folders/8_/h2tjc94d2y5fwx8dhbcrnbfc0000gn/T/ipykernel_20471/2693908529.py:21: LangChainDeprecationWarning: The method `BaseChatModel.__call__` was deprecated in langchain-core 0.1.7 and will be removed in 1.0. Use :meth:`~invoke` instead.\n",
      "  response = llm(prompt)\n"
     ]
    },
    {
     "name": "stdout",
     "output_type": "stream",
     "text": [
      ">>>LLM RESPONSE: No, the swimmer should not be disqualified. According to rule 101.2.2, after the\n",
      "start and after each turn, the swimmer may take one arm stroke completely back\n",
      "to the legs. The hands must be pushed forward together from the breast on,\n",
      "under, or over the water, and the hands shall not be brought back beyond the hip\n",
      "line, except during the first stroke after the start and each turn. There is no\n",
      "specific prohibition against a sculling or flipper movement at the end of the\n",
      "first arm stroke, so it is allowed.\n",
      ">>>TARGET: No, the swimmer should not be disqualified. This is legal provided, 'All\n",
      "movements of the arms shall be simultaneous without alternating movement.' A\n",
      "sculling motion of the hands, only as a part of the arm stroke, is not\n",
      "considered the beginning of a new stroke.\n",
      ">>>CORRECTNESS SCORE: correctness  True\n",
      "FEEDBACK: The provided answer correctly states that the swimmer should not be disqualified\n",
      "and gives an explanation in line with the rules. It clarifies that during the\n",
      "breaststroke, after the start and each turn, the swimmer is allowed one arm\n",
      "stroke that is different from the rest and that the hands must be pushed forward\n",
      "together. It further explains there is no explicit prohibition against the\n",
      "sculling or flipper movement at the end of the first arm stroke.   While the\n",
      "output didn't explicitly cite the need for simultaneous arm movements as\n",
      "mentioned in the reference output, it still logically captures the essence of\n",
      "the regulation as per swimming rules. The response meets all rubric criteria: it\n",
      "addresses all parts of the question, maintains factual accuracy, has no\n",
      "misleading elements, and uses precise terminology. Thus, the score should be:\n",
      "true.\n",
      "\n",
      " >>>SITUATION: 10 QUERY: In a 9-10 100 yard breaststroke event, a swimmer\n",
      "completes 50 yards and, thinking that the race is over, pushes back from the\n",
      "wall to read the scoreboard. At this point, realizing that the race is only\n",
      "halfway over, the swimmer returns to the wall, pushes off on the breast, and\n",
      "completes the required distance in good form. What call, if any, should be made?\n",
      ">>>LLM RESPONSE: I don't have that rule in my current documentation.\n",
      ">>>TARGET: The swimmer left the wall on the back and then returned to the wall before\n",
      "resuming the stroke. One violation that could be called would be that the\n",
      "swimmer was not on the breast when leaving the wall. Additional violations could\n",
      "include that the arm stroke was not simultaneous, depending on what was observed\n",
      "by the judge.\n",
      ">>>CORRECTNESS SCORE: correctness  False\n",
      "FEEDBACK: The provided output indicates a lack of available information about the rule in\n",
      "question, stating \"I don't have that rule in my current documentation.\" This\n",
      "response does not address the situation described in the input thoroughly or\n",
      "accurately.   1. **Factual Accuracy**: The output fails to recognize potential\n",
      "rules violations in the scenario where a swimmer mistakenly stops a race midway,\n",
      "leaves the wall on the back, and then continues the race.  2. **Completeness**:\n",
      "The output does not address the different angles of potential infractions\n",
      "regarding specific swimming strokes and race protocols.  3. **Reference Check**:\n",
      "The reference output discusses possible rules violations such as not being on\n",
      "the breast when leaving the wall, which suggests accuracy concerns with the\n",
      "provided output.  4. **Terminology and Logic**: The output does not employ\n",
      "relevant swimming terminology or a logical evaluation of the scenario according\n",
      "to standard swim regulations.  Ultimately, the response fails to provide a\n",
      "correct and complete answer as expected by the rubric provided. Thus, the score\n",
      "should be: false.\n",
      "\n",
      " >>>SITUATION: 23 QUERY: After a deep forward start in the breaststroke, a\n",
      "swimmer took one arm stroke completely back to their legs followed by a little\n",
      "butterfly kick and a breaststroke kick to get closer to the surface of the\n",
      "water. Their head broke the surface of the water before the hands turned inward\n",
      "at the widest part of the second stroke. The swimmer was disqualified. Was the\n",
      "disqualification correct?\n",
      ">>>LLM RESPONSE: Based on the provided rules, the disqualification was not correct. According to\n",
      "rule 101.2.2, after the start and after each turn, the swimmer may take one arm\n",
      "stroke completely back to the legs, and rule 101.2.3 allows a single butterfly\n",
      "kick at any time prior to the first breaststroke kick. The swimmer's head must\n",
      "break the surface of the water before the hands turn inward at the widest part\n",
      "of the second stroke, which the swimmer did. Therefore, the swimmer's actions\n",
      "were in compliance with the rules.\n",
      ">>>TARGET: No. The rule states, 'After the start and each turn, at any time prior to the\n",
      "first breaststroke kick, a single butterfly kick is permitted.'\n",
      ">>>CORRECTNESS SCORE: correctness  True\n",
      "FEEDBACK: The output in question states that the swimmer followed the rules correctly by\n",
      "meeting the requirements set out in rules 101.2.2 and 101.2.3. Specifically, the\n",
      "swimmer took one arm stroke completely back to the legs, performed a single\n",
      "butterfly kick, and broke the surface with their head before the arms moved\n",
      "inward during the second stroke as required. Therefore, the justification for\n",
      "not disqualifying the swimmer matches the provided rules and is factually\n",
      "accurate and complete.  The reference output supports the provided explanation\n",
      "by reinforcing the rule that allows the sequence of arm stroke and butterfly\n",
      "kick before the breaststroke kick, which concurs with the explanation in the\n",
      "output being evaluated. Thus, both align on the correctness of the swimmer's\n",
      "actions, validating that they complied with the stated swimming rules.  Given\n",
      "that the output accurately and completely addresses the question and is\n",
      "consistent with both the rules and the reference, there are no factual\n",
      "inaccuracies, logical inconsistencies, or misplaced terminology.  Thus, the\n",
      "score should be: true.\n",
      "\n",
      " >>>SITUATION: 37 QUERY: A swimmer in the 100 yard butterfly moves too close to\n",
      "the right lane line. During the recovery portion of an arm stroke, their right\n",
      "arm hits the lane line, causing the right arm to trail the left arm over and\n",
      "into the water (alternating action). However, the swimmer then pulls both arms\n",
      "back simultaneously during the propulsive portion of the arm stroke. The stroke\n",
      "judge signals a disqualification. Is this a valid DQ?\n",
      ">>>LLM RESPONSE: Yes, this is a valid disqualification. According to rule 101.3.2, in the\n",
      "butterfly stroke, both arms must be brought forward simultaneously over the\n",
      "water and pulled back simultaneously under the water throughout the race. The\n",
      "swimmer's action of having the right arm trail the left arm during the recovery\n",
      "portion of the stroke constitutes an alternating movement, which is a violation\n",
      "of this rule.\n",
      ">>>TARGET: This is a correct call. The rule states, “Both arms must be brought forward\n",
      "simultaneously over the water and pulled back simultaneously under the water\n",
      "throughout the race.” In this case, the swimmer’s arms were not brought forward\n",
      "over the water simultaneously. The fact that the lane line prevented the swimmer\n",
      "from recovering both arms simultaneously is not germane to the judging of the\n",
      "stroke.\n",
      ">>>CORRECTNESS SCORE: correctness  True\n",
      "FEEDBACK: The output is evaluated against the provided rubric for correctness.   1.\n",
      "**Factual Accuracy and Completeness**    - The output correctly states Rule\n",
      "101.3.2 regarding the butterfly stroke in swimming, which requires both arms to\n",
      "be brought forward simultaneously over the water and pulled back simultaneously\n",
      "under the water.     - The event of the swimmer's right arm trailing during the\n",
      "recovery portion and conflicting with the required simultaneous action is\n",
      "accurately identified as a rule violation.  2. **Addressing All Parts of the\n",
      "Question**    - The output explicitly states that the action constitutes a valid\n",
      "disqualification based on the specific rule, which addresses the query\n",
      "effectively.     3. **Logical Consistency**    - The logic follows clearly,\n",
      "explaining how the actions described lead to a disqualification under the rules\n",
      "specified.  4. **Use of Precise and Accurate Terminology**    - Swimming-\n",
      "specific terms are used correctly and relevant details about the stroke are\n",
      "specified accurately.  5. **No Penalties Identified**    - There are no observed\n",
      "factual inaccuracies or misleading statements.    - No missing key information\n",
      "is detected; the explanation is thorough in supporting why it is a valid DQ.\n",
      "Thus, the score should be: true.\n"
     ]
    }
   ],
   "source": [
    "\n",
    "test_results = []\n",
    "for situation in swimming_situations:\n",
    "    query = situation[\"prompt\"]\n",
    "    test_case = {\"question\": query, \"situation\": situation[\"sitiuation_id\"]}\n",
    "    print()\n",
    "    print(textwrap.fill(f\"\\n>>>SITUATION: {situation['sitiuation_id']} QUERY: {query}\", width=80))\n",
    "    \n",
    "\n",
    "    # Use the retriever to get relevant documents\n",
    "    docs = retriever.get_relevant_documents(query)\n",
    "\n",
    "    # Combine the retrieved documents into a context string\n",
    "    context = \"\\n\".join([doc.page_content for doc in docs])\n",
    "    # print(textwrap.fill(f\"\\n>>>CONTEXT:\\n{context}\", width=80))\n",
    "    # If no documents were retrieved, provide a default message\n",
    "\n",
    "    # Create the prompt template\n",
    "    prompt = SWIMMING_RULES_PROMPT.format(context=context, question=query)\n",
    "\n",
    "    start_time = time.time()\n",
    "    response = llm(prompt)\n",
    "    test_case[\"query_time\"] = time.time() - start_time\n",
    "\n",
    "    start_time = time.time()\n",
    "    correctness_score = response_evaluator(inputs=query, outputs=response.content, reference_outputs=situation[\"target\"])\n",
    "    test_case[\"response_eval_time\"] = time.time() - start_time\n",
    "\n",
    "    test_case.update({\n",
    "        \"llm_response\": response.content,\n",
    "        \"correctness_score\": correctness_score[\"score\"],\n",
    "        \"feedback\": correctness_score[\"comment\"],\n",
    "        \"target\": situation[\"target\"]\n",
    "    })\n",
    "\n",
    "    # Word wrap the response content if the line is longer than 80 characters\n",
    "    wrapped_response = textwrap.fill(response.content, width=80)\n",
    "    print(f\">>>LLM RESPONSE: {wrapped_response}\")\n",
    "    print(f\">>>TARGET: {textwrap.fill(situation['target'], width=80)}\")\n",
    "\n",
    "    print(f\">>>CORRECTNESS SCORE: {correctness_score['key']}  {correctness_score['score']}\")\n",
    "    print(f\"FEEDBACK: {textwrap.fill(correctness_score['comment'], width=80)}\")\n",
    "\n",
    "    test_results.append(test_case)\n",
    "\n"
   ]
  },
  {
   "cell_type": "code",
   "execution_count": 9,
   "metadata": {},
   "outputs": [
    {
     "data": {
      "text/html": [
       "<div>\n",
       "<style scoped>\n",
       "    .dataframe tbody tr th:only-of-type {\n",
       "        vertical-align: middle;\n",
       "    }\n",
       "\n",
       "    .dataframe tbody tr th {\n",
       "        vertical-align: top;\n",
       "    }\n",
       "\n",
       "    .dataframe thead th {\n",
       "        text-align: right;\n",
       "    }\n",
       "</style>\n",
       "<table border=\"1\" class=\"dataframe\">\n",
       "  <thead>\n",
       "    <tr style=\"text-align: right;\">\n",
       "      <th></th>\n",
       "      <th>question</th>\n",
       "      <th>situation</th>\n",
       "      <th>query_time</th>\n",
       "      <th>response_eval_time</th>\n",
       "      <th>llm_response</th>\n",
       "      <th>correctness_score</th>\n",
       "      <th>feedback</th>\n",
       "      <th>target</th>\n",
       "    </tr>\n",
       "  </thead>\n",
       "  <tbody>\n",
       "    <tr>\n",
       "      <th>0</th>\n",
       "      <td>A breaststroke swimmer moves their hands in a ...</td>\n",
       "      <td>9</td>\n",
       "      <td>1.703555</td>\n",
       "      <td>2.394811</td>\n",
       "      <td>No, the swimmer should not be disqualified. Ac...</td>\n",
       "      <td>True</td>\n",
       "      <td>The provided answer correctly states that the ...</td>\n",
       "      <td>No, the swimmer should not be disqualified. Th...</td>\n",
       "    </tr>\n",
       "    <tr>\n",
       "      <th>1</th>\n",
       "      <td>In a 9-10 100 yard breaststroke event, a swimm...</td>\n",
       "      <td>10</td>\n",
       "      <td>0.632415</td>\n",
       "      <td>2.511264</td>\n",
       "      <td>I don't have that rule in my current documenta...</td>\n",
       "      <td>False</td>\n",
       "      <td>The provided output indicates a lack of availa...</td>\n",
       "      <td>The swimmer left the wall on the back and then...</td>\n",
       "    </tr>\n",
       "    <tr>\n",
       "      <th>2</th>\n",
       "      <td>After a deep forward start in the breaststroke...</td>\n",
       "      <td>23</td>\n",
       "      <td>1.617250</td>\n",
       "      <td>2.528005</td>\n",
       "      <td>Based on the provided rules, the disqualificat...</td>\n",
       "      <td>True</td>\n",
       "      <td>The output in question states that the swimmer...</td>\n",
       "      <td>No. The rule states, 'After the start and each...</td>\n",
       "    </tr>\n",
       "    <tr>\n",
       "      <th>3</th>\n",
       "      <td>A swimmer in the 100 yard butterfly moves too ...</td>\n",
       "      <td>37</td>\n",
       "      <td>1.157119</td>\n",
       "      <td>3.031172</td>\n",
       "      <td>Yes, this is a valid disqualification. Accordi...</td>\n",
       "      <td>True</td>\n",
       "      <td>The output is evaluated against the provided r...</td>\n",
       "      <td>This is a correct call. The rule states, “Both...</td>\n",
       "    </tr>\n",
       "  </tbody>\n",
       "</table>\n",
       "</div>"
      ],
      "text/plain": [
       "                                            question  situation  query_time  \\\n",
       "0  A breaststroke swimmer moves their hands in a ...          9    1.703555   \n",
       "1  In a 9-10 100 yard breaststroke event, a swimm...         10    0.632415   \n",
       "2  After a deep forward start in the breaststroke...         23    1.617250   \n",
       "3  A swimmer in the 100 yard butterfly moves too ...         37    1.157119   \n",
       "\n",
       "   response_eval_time                                       llm_response  \\\n",
       "0            2.394811  No, the swimmer should not be disqualified. Ac...   \n",
       "1            2.511264  I don't have that rule in my current documenta...   \n",
       "2            2.528005  Based on the provided rules, the disqualificat...   \n",
       "3            3.031172  Yes, this is a valid disqualification. Accordi...   \n",
       "\n",
       "   correctness_score                                           feedback  \\\n",
       "0               True  The provided answer correctly states that the ...   \n",
       "1              False  The provided output indicates a lack of availa...   \n",
       "2               True  The output in question states that the swimmer...   \n",
       "3               True  The output is evaluated against the provided r...   \n",
       "\n",
       "                                              target  \n",
       "0  No, the swimmer should not be disqualified. Th...  \n",
       "1  The swimmer left the wall on the back and then...  \n",
       "2  No. The rule states, 'After the start and each...  \n",
       "3  This is a correct call. The rule states, “Both...  "
      ]
     },
     "execution_count": 9,
     "metadata": {},
     "output_type": "execute_result"
    }
   ],
   "source": [
    "test_results_df = pd.DataFrame(test_results)\n",
    "test_results_df"
   ]
  },
  {
   "cell_type": "code",
   "execution_count": 90,
   "metadata": {},
   "outputs": [
    {
     "name": "stdout",
     "output_type": "stream",
     "text": [
      "75.0 -0.05 0.0\n",
      "25.0 -0.05 75.0\n"
     ]
    },
    {
     "data": {
      "image/png": "[encoded data removed]",
      "text/plain": [
       "<Figure size 1000x600 with 1 Axes>"
      ]
     },
     "metadata": {},
     "output_type": "display_data"
    }
   ],
   "source": [
    "import pandas as pd\n",
    "import matplotlib.pyplot as plt\n",
    "\n",
    "\n",
    "fig, ax = plt.subplots(figsize=(10, 6))\n",
    "# Set the figure size\n",
    "# Calculate value counts and normalize to percentages\n",
    "value_counts = test_results_df['correctness_score'].value_counts(normalize=True).mul(100)\n",
    "\n",
    "\n",
    "# Create a stacked bar plot\n",
    "df = pd.DataFrame(value_counts).T\n",
    "df.columns = value_counts.index.astype(str).to_list()\n",
    "df.rename(index={\"proportion\": 'correctness_score'}, inplace=True)\n",
    "df = df[[\"True\", \"False\"]]\n",
    "df.plot.bar(stacked=True, ax=ax, width=0.1)\n",
    "plt.title('Correctness Score Distribution (%)')\n",
    "ax.set_xticklabels([], rotation=0)\n",
    "plt.xlabel('Correctness Score')\n",
    "\n",
    "\n",
    "# label the bars with percentage values\n",
    "value_patches = zip(value_counts, ax.patches)\n",
    "for value, patch in value_patches:\n",
    "    height = patch.get_height()\n",
    "    print(height, patch.get_x(), patch.get_y())\n",
    "    ax.annotate(f'{value:.1f}%', \n",
    "                xy=(patch.get_x() + patch.get_width() / 2, patch.get_y() + value / 2), \n",
    "                ha='center', va='bottom', fontsize=10, color=\"white\")\n",
    "    \n",
    "# annotate chart with number of test cases\n",
    "total_test_cases = len(test_results_df)\n",
    "ax.annotate(f'Number Test Cases: {total_test_cases}', \n",
    "            xy=(0.15, 0.9), \n",
    "            ha='center', va='bottom', fontsize=12, color=\"black\", xycoords='axes fraction')\n",
    "\n",
    "\n",
    "# Create stacked bar plot\n",
    "\n",
    "plt.show()"
   ]
  },
  {
   "cell_type": "code",
   "execution_count": 59,
   "metadata": {},
   "outputs": [
    {
     "data": {
      "text/html": [
       "<div>\n",
       "<style scoped>\n",
       "    .dataframe tbody tr th:only-of-type {\n",
       "        vertical-align: middle;\n",
       "    }\n",
       "\n",
       "    .dataframe tbody tr th {\n",
       "        vertical-align: top;\n",
       "    }\n",
       "\n",
       "    .dataframe thead th {\n",
       "        text-align: right;\n",
       "    }\n",
       "</style>\n",
       "<table border=\"1\" class=\"dataframe\">\n",
       "  <thead>\n",
       "    <tr style=\"text-align: right;\">\n",
       "      <th></th>\n",
       "      <th>True</th>\n",
       "      <th>False</th>\n",
       "    </tr>\n",
       "  </thead>\n",
       "  <tbody>\n",
       "    <tr>\n",
       "      <th>correctness_score</th>\n",
       "      <td>75.0</td>\n",
       "      <td>25.0</td>\n",
       "    </tr>\n",
       "  </tbody>\n",
       "</table>\n",
       "</div>"
      ],
      "text/plain": [
       "                   True  False\n",
       "correctness_score  75.0   25.0"
      ]
     },
     "execution_count": 59,
     "metadata": {},
     "output_type": "execute_result"
    }
   ],
   "source": [
    "\n",
    "df\n"
   ]
  },
  {
   "cell_type": "code",
   "execution_count": 64,
   "metadata": {},
   "outputs": [
    {
     "data": {
      "text/plain": [
       "[<matplotlib.patches.Rectangle at 0x35653b310>,\n",
       " <matplotlib.patches.Rectangle at 0x35653be50>]"
      ]
     },
     "execution_count": 64,
     "metadata": {},
     "output_type": "execute_result"
    }
   ],
   "source": [
    "list(ax.patches)"
   ]
  },
  {
   "cell_type": "code",
   "execution_count": 56,
   "metadata": {},
   "outputs": [
    {
     "data": {
      "text/plain": [
       "['True', 'False']"
      ]
     },
     "execution_count": 56,
     "metadata": {},
     "output_type": "execute_result"
    }
   ],
   "source": [
    "value_counts.index.astype(str).to_list()"
   ]
  },
  {
   "cell_type": "code",
   "execution_count": 84,
   "metadata": {},
   "outputs": [
    {
     "data": {
      "text/plain": [
       "(4, 9)"
      ]
     },
     "execution_count": 84,
     "metadata": {},
     "output_type": "execute_result"
    }
   ],
   "source": [
    "test_results_df.shape\n"
   ]
  }
 ],
 "metadata": {
  "kernelspec": {
   "display_name": "venv",
   "language": "python",
   "name": "python3"
  },
  "language_info": {
   "codemirror_mode": {
    "name": "ipython",
    "version": 3
   },
   "file_extension": ".py",
   "mimetype": "text/x-python",
   "name": "python",
   "nbconvert_exporter": "python",
   "pygments_lexer": "ipython3",
   "version": "3.11.11"
  }
 },
 "nbformat": 4,
 "nbformat_minor": 4
}
