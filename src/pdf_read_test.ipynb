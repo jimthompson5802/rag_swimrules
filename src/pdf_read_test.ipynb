{
 "cells": [
  {
   "cell_type": "code",
   "execution_count": null,
   "metadata": {},
   "outputs": [
    {
     "name": "stdout",
     "output_type": "stream",
     "text": [
      "Extracting page 20...\n"
     ]
    }
   ],
   "source": [
    "from pypdf import PdfReader\n",
    "\n",
    "reader = PdfReader(\"../raw_data/2025-mini-rulebook.pdf\")\n",
    "paragraphs = []\n",
    "\n",
    "pages_to_extract = range(20,27)  # Specify the pages you want to extract\n",
    "\n",
    "for page_number in pages_to_extract:\n",
    "    print(f\"Extracting page {page_number}...\")\n",
    "    page = reader.pages[page_number]\n",
    "    # Use \"layout\" mode to preserve paragraph breaks\n",
    "    text = page.extract_text(extraction_mode=\"layout\")\n",
    "    print(text)\n",
    "    # Split by double newlines (common paragraph delimiter)\n",
    "    paragraphs.extend([p.strip() for p in text.split(\"\\n\\n\") if p.strip()])\n",
    "\n",
    "print(paragraphs)  # Output: [\"101.5 FREESTYLE\", \".1 Start — The forward...\", ...]\n"
   ]
  }
 ],
 "metadata": {
  "kernelspec": {
   "display_name": "venv",
   "language": "python",
   "name": "python3"
  },
  "language_info": {
   "codemirror_mode": {
    "name": "ipython",
    "version": 3
   },
   "file_extension": ".py",
   "mimetype": "text/x-python",
   "name": "python",
   "nbconvert_exporter": "python",
   "pygments_lexer": "ipython3",
   "version": "3.11.11"
  }
 },
 "nbformat": 4,
 "nbformat_minor": 2
}
